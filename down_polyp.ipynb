{
 "cells": [
  {
   "cell_type": "code",
   "execution_count": 2,
   "metadata": {},
   "outputs": [],
   "source": [
    "# stare\n",
    "https://drive.google.com/file/d/1HSMDyUkymrmv5SyIJ4gfnOSXJCOaaxJu/view?usp=drive_link # image .tar (file .ppm.gz)\n",
    "https://drive.google.com/file/d/1cFtb86hBSLKSZIpNMKSDrSIRQCwVMb1m/view?usp=drive_link # label .tar (file .ppm.gz)\n",
    "# drive\n",
    "https://drive.google.com/file/d/1NHN21xRman382_NlRVkRd1zrrtMmr4FQ/view?usp=drive_link # training.zip (file .gif)\n",
    "https://drive.google.com/file/d/1K63Jp3LRXYdvkFRzZV5cm2sO2keXyNtS/view?usp=drive_link # test.zip (file .tif)\n",
    "# chase_db1\n",
    "https://drive.google.com/file/d/1rApQJINO3XsX6KPA6OMC7wwfMpSHULbP/view?usp=drive_link # mix (28 img, .png)\n",
    "# download to here\n",
    "/home/khanhle/SkinSeg/SkinSeg/download/\n",
    "# unzip here\n",
    "/home/khanhle/SkinSeg/SkinSeg/data/"
   ]
  },
  {
   "cell_type": "code",
   "execution_count": 5,
   "metadata": {},
   "outputs": [
    {
     "name": "stderr",
     "output_type": "stream",
     "text": [
      "Downloading...\n",
      "From: https://drive.google.com/uc?id=1HSMDyUkymrmv5SyIJ4gfnOSXJCOaaxJu\n",
      "To: /home/khanhle/SkinSeg/SkinSeg/download/STARE_images.tar\n",
      "100%|██████████| 18.7M/18.7M [00:01<00:00, 9.94MB/s]\n",
      "Downloading...\n",
      "From: https://drive.google.com/uc?id=1cFtb86hBSLKSZIpNMKSDrSIRQCwVMb1m\n",
      "To: /home/khanhle/SkinSeg/SkinSeg/download/STARE_labels.tar\n",
      "100%|██████████| 242k/242k [00:00<00:00, 1.44MB/s]\n",
      "Downloading...\n",
      "From: https://drive.google.com/uc?id=1NHN21xRman382_NlRVkRd1zrrtMmr4FQ\n",
      "To: /home/khanhle/SkinSeg/SkinSeg/download/DRIVE_training.zip\n",
      "100%|██████████| 14.8M/14.8M [00:01<00:00, 9.90MB/s]\n",
      "Downloading...\n",
      "From: https://drive.google.com/uc?id=1K63Jp3LRXYdvkFRzZV5cm2sO2keXyNtS\n",
      "To: /home/khanhle/SkinSeg/SkinSeg/download/DRIVE_test.zip\n",
      "100%|██████████| 14.6M/14.6M [00:01<00:00, 7.93MB/s]\n",
      "Downloading...\n",
      "From: https://drive.google.com/uc?id=1rApQJINO3XsX6KPA6OMC7wwfMpSHULbP\n",
      "To: /home/khanhle/SkinSeg/SkinSeg/download/CHASE_DB1.zip\n",
      "100%|██████████| 2.51M/2.51M [00:00<00:00, 6.52MB/s]\n"
     ]
    },
    {
     "name": "stdout",
     "output_type": "stream",
     "text": [
      "Tải và giải nén hoàn tất!\n"
     ]
    }
   ],
   "source": [
    "import gdown\n",
    "import os\n",
    "import tarfile\n",
    "import zipfile\n",
    "\n",
    "# Đường dẫn đến thư mục lưu trữ\n",
    "base_path = '/home/khanhle/SkinSeg/SkinSeg/download/'\n",
    "data_path = '/home/khanhle/SkinSeg/SkinSeg/data/'\n",
    "\n",
    "# Danh sách các liên kết\n",
    "links = {\n",
    "    'STARE_images': 'https://drive.google.com/uc?id=1HSMDyUkymrmv5SyIJ4gfnOSXJCOaaxJu',\n",
    "    'STARE_labels': 'https://drive.google.com/uc?id=1cFtb86hBSLKSZIpNMKSDrSIRQCwVMb1m',\n",
    "    'DRIVE_training': 'https://drive.google.com/uc?id=1NHN21xRman382_NlRVkRd1zrrtMmr4FQ',\n",
    "    'DRIVE_test': 'https://drive.google.com/uc?id=1K63Jp3LRXYdvkFRzZV5cm2sO2keXyNtS',\n",
    "    'CHASE_DB1': 'https://drive.google.com/uc?id=1rApQJINO3XsX6KPA6OMC7wwfMpSHULbP'\n",
    "}\n",
    "\n",
    "# Tải lại các tệp tin\n",
    "for name, link in links.items():\n",
    "    output_path = os.path.join(base_path, f'{name}.tar' if 'STARE' in name else f'{name}.zip')\n",
    "    gdown.download(link, output_path, quiet=False)\n",
    "\n",
    "# Giải nén các tệp tin .tar và .zip\n",
    "files_to_extract = [\n",
    "    'STARE_images.tar',\n",
    "    'STARE_labels.tar',\n",
    "    'DRIVE_training.zip',\n",
    "    'DRIVE_test.zip',\n",
    "    'CHASE_DB1.zip'\n",
    "]\n",
    "\n"
   ]
  },
  {
   "cell_type": "code",
   "execution_count": 6,
   "metadata": {},
   "outputs": [],
   "source": [
    "datasets = ['drive', 'stare', 'chase_db1']\n",
    "for dataset in datasets:\n",
    "    os.makedirs(os.path.join(data_path, dataset), exist_ok=True)"
   ]
  },
  {
   "cell_type": "code",
   "execution_count": 7,
   "metadata": {},
   "outputs": [],
   "source": [
    "# Giải nén các tệp tin và tổ chức theo cấu trúc mong muốn\n",
    "for name in links.keys():\n",
    "    file_path = os.path.join(base_path, f'{name}.tar' if 'STARE' in name else f'{name}.zip')\n",
    "    if 'STARE' in name:\n",
    "        target_folder = os.path.join(data_path, 'stare')\n",
    "        with tarfile.open(file_path, 'r') as tar:\n",
    "            tar.extractall(path=target_folder)\n",
    "    elif 'DRIVE' in name:\n",
    "        target_folder = os.path.join(data_path, 'drive')\n",
    "        with zipfile.ZipFile(file_path, 'r') as zip_ref:\n",
    "            zip_ref.extractall(target_folder)\n",
    "    elif 'CHASE_DB1' in name:\n",
    "        target_folder = os.path.join(data_path, 'chase_db1')\n",
    "        with zipfile.ZipFile(file_path, 'r') as zip_ref:\n",
    "            zip_ref.extractall(target_folder)"
   ]
  },
  {
   "cell_type": "code",
   "execution_count": 8,
   "metadata": {},
   "outputs": [
    {
     "name": "stdout",
     "output_type": "stream",
     "text": [
      "Tách tệp hoàn tất!\n"
     ]
    }
   ],
   "source": [
    "import os\n",
    "import shutil\n",
    "\n",
    "# Đường dẫn đến thư mục stare\n",
    "stare_path = '/home/khanhle/SkinSeg/SkinSeg/data/stare/'\n",
    "\n",
    "# Tạo các thư mục cho hình ảnh và nhãn\n",
    "image_folder = os.path.join(stare_path, 'images')\n",
    "label_folder = os.path.join(stare_path, 'labels')\n",
    "\n",
    "os.makedirs(image_folder, exist_ok=True)\n",
    "os.makedirs(label_folder, exist_ok=True)\n",
    "\n",
    "# Di chuyển các tệp vào các thư mục tương ứng\n",
    "for file_name in os.listdir(stare_path):\n",
    "    file_path = os.path.join(stare_path, file_name)\n",
    "    if file_name.endswith('.ah.ppm.gz'):\n",
    "        shutil.move(file_path, os.path.join(label_folder, file_name))\n",
    "    elif file_name.endswith('.ppm.gz'):\n",
    "        shutil.move(file_path, os.path.join(image_folder, file_name))\n",
    "\n",
    "print(\"Tách tệp hoàn tất!\")\n"
   ]
  },
  {
   "cell_type": "code",
   "execution_count": 9,
   "metadata": {},
   "outputs": [
    {
     "name": "stdout",
     "output_type": "stream",
     "text": [
      "Tách tệp hoàn tất!\n"
     ]
    }
   ],
   "source": [
    "import os\n",
    "import shutil\n",
    "\n",
    "# Đường dẫn đến thư mục chase_db1\n",
    "chase_db1_path = '/home/khanhle/SkinSeg/SkinSeg/data/chase_db1/'\n",
    "\n",
    "# Tạo các thư mục cho hình ảnh và nhãn\n",
    "image_folder = os.path.join(chase_db1_path, 'images')\n",
    "label_folder = os.path.join(chase_db1_path, 'labels')\n",
    "label_1_folder = os.path.join(chase_db1_path, 'labels_1')\n",
    "\n",
    "os.makedirs(image_folder, exist_ok=True)\n",
    "os.makedirs(label_folder, exist_ok=True)\n",
    "os.makedirs(label_1_folder, exist_ok=True)\n",
    "\n",
    "# Di chuyển các tệp vào các thư mục tương ứng\n",
    "for file_name in os.listdir(chase_db1_path):\n",
    "    file_path = os.path.join(chase_db1_path, file_name)\n",
    "    if file_name.endswith('.jpg'):\n",
    "        shutil.move(file_path, os.path.join(image_folder, file_name))\n",
    "    elif file_name.endswith('_1stHO.png'):\n",
    "        shutil.move(file_path, os.path.join(label_folder, file_name))\n",
    "    elif file_name.endswith('_2ndHO.png'):\n",
    "        shutil.move(file_path, os.path.join(label_1_folder, file_name))\n",
    "\n",
    "print(\"Tách tệp hoàn tất!\")\n"
   ]
  },
  {
   "cell_type": "code",
   "execution_count": 1,
   "metadata": {},
   "outputs": [
    {
     "name": "stdout",
     "output_type": "stream",
     "text": [
      "1.13.1+cu116\n",
      "True\n"
     ]
    }
   ],
   "source": [
    "import torch\n",
    "print(torch.__version__)\n",
    "print(torch.cuda.is_available())\n"
   ]
  }
 ],
 "metadata": {
  "kernelspec": {
   "display_name": "NewEnv",
   "language": "python",
   "name": "newenv"
  },
  "language_info": {
   "codemirror_mode": {
    "name": "ipython",
    "version": 3
   },
   "file_extension": ".py",
   "mimetype": "text/x-python",
   "name": "python",
   "nbconvert_exporter": "python",
   "pygments_lexer": "ipython3",
   "version": "3.10.14"
  }
 },
 "nbformat": 4,
 "nbformat_minor": 2
}
